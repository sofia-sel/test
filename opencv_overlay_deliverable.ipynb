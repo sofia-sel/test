{
 "cells": [
  {
   "cell_type": "code",
   "execution_count": null,
   "metadata": {},
   "outputs": [],
   "source": [
    "import cv2\n",
    "import numpy as np\n",
    "\n",
    "specs = cv2.imread('specs.png',-1)\n",
    "face = cv2.imread('face.png',-1)\n",
    "\n",
    "gray = cv2.cvtColor(face, cv2.COLOR_BGR2GRAY)\n",
    "eyes_cascade = cv2.CascadeClassifier('frontalEyes.xml')\n",
    "eyes = eyes_cascade.detectMultiScale(gray,1.3,5)\n",
    "\n",
    "for (x,y,w,h) in eyes:\n",
    "    cv2.rectangle(gray, (x,y),(x+w,y+h), (255,86,30),3)\n",
    "\n",
    "face = cv2.cvtColor(face, cv2.COLOR_BGR2BGRA)\n",
    "specs = cv2.resize(specs, ( w,h))\n",
    "\n",
    "w,h,c = specs.shape\n",
    "\n",
    "for i in range(0,w):\n",
    "    for j in range(0,h):\n",
    "        if specs[i,j][3] != 0:\n",
    "            face[y+i, x+j] \n",
    "\n",
    "face[y:y+w, x:x+h] = specs\n",
    "cv2.imshow('op',face)\n",
    "\n",
    "cv2.waitKey(0)"
   ]
  },
  {
   "cell_type": "code",
   "execution_count": null,
   "metadata": {},
   "outputs": [],
   "source": []
  }
 ],
 "metadata": {
  "kernelspec": {
   "display_name": "Python 3",
   "language": "python",
   "name": "python3"
  },
  "language_info": {
   "name": "python",
   "version": "3.12.3"
  }
 },
 "nbformat": 4,
 "nbformat_minor": 2
}
